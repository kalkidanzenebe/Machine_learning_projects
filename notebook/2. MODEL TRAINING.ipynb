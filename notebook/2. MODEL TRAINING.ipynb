{
 "cells": [
  {
   "attachments": {},
   "cell_type": "markdown",
   "id": "92e48866",
   "metadata": {},
   "source": [
    "## Model Training"
   ]
  },
  {
   "cell_type": "markdown",
   "id": "25791a74",
   "metadata": {},
   "source": [
    "#### 1.1 Import Data and Required Packages\n",
    "##### Importing Pandas, Numpy, Matplotlib, Seaborn and Warings Library."
   ]
  },
  {
   "cell_type": "code",
   "execution_count": 1,
   "id": "b080dfb2",
   "metadata": {},
   "outputs": [],
   "source": [
    "# Basic Import\n",
    "import numpy as np\n",
    "import pandas as pd\n",
    "import matplotlib.pyplot as plt \n",
    "import seaborn as sns\n",
    "# Modelling\n",
    "from sklearn.metrics import mean_squared_error, r2_score\n",
    "from sklearn.neighbors import KNeighborsRegressor\n",
    "from sklearn.model_selection import train_test_split\n",
    "from sklearn.preprocessing import LabelEncoder,StandardScaler\n",
    "from sklearn.ensemble import RandomForestRegressor\n",
    "from sklearn.tree import DecisionTreeRegressor\n",
    "from sklearn.ensemble import RandomForestRegressor,AdaBoostRegressor\n",
    "from sklearn.svm import SVR\n",
    "from sklearn.linear_model import LinearRegression, Ridge,Lasso\n",
    "from sklearn.metrics import r2_score, mean_absolute_error, mean_squared_error\n",
    "from sklearn.model_selection import RandomizedSearchCV\n",
    "from catboost import CatBoostRegressor\n",
    "from xgboost import XGBRegressor\n",
    "import warnings"
   ]
  },
  {
   "cell_type": "markdown",
   "id": "e45079ad",
   "metadata": {},
   "source": [
    "#### Import the CSV Data as Pandas DataFrame"
   ]
  },
  {
   "cell_type": "code",
   "execution_count": 2,
   "id": "e11c6255",
   "metadata": {},
   "outputs": [],
   "source": [
    "df = pd.read_csv(\"data/FIFA4.csv\")\n"
   ]
  },
  {
   "cell_type": "markdown",
   "id": "20634923",
   "metadata": {},
   "source": [
    "#### Show Top 5 Records"
   ]
  },
  {
   "cell_type": "code",
   "execution_count": 3,
   "id": "e7e412a2",
   "metadata": {},
   "outputs": [
    {
     "data": {
      "text/html": [
       "<div>\n",
       "<style scoped>\n",
       "    .dataframe tbody tr th:only-of-type {\n",
       "        vertical-align: middle;\n",
       "    }\n",
       "\n",
       "    .dataframe tbody tr th {\n",
       "        vertical-align: top;\n",
       "    }\n",
       "\n",
       "    .dataframe thead th {\n",
       "        text-align: right;\n",
       "    }\n",
       "</style>\n",
       "<table border=\"1\" class=\"dataframe\">\n",
       "  <thead>\n",
       "    <tr style=\"text-align: right;\">\n",
       "      <th></th>\n",
       "      <th>Age</th>\n",
       "      <th>Nationality</th>\n",
       "      <th>Overall</th>\n",
       "      <th>Potential</th>\n",
       "      <th>Club</th>\n",
       "      <th>Value</th>\n",
       "      <th>Wage</th>\n",
       "      <th>Special</th>\n",
       "      <th>Preferred Foot</th>\n",
       "      <th>International Reputation</th>\n",
       "      <th>...</th>\n",
       "      <th>Penalties</th>\n",
       "      <th>Composure</th>\n",
       "      <th>Marking</th>\n",
       "      <th>StandingTackle</th>\n",
       "      <th>SlidingTackle</th>\n",
       "      <th>GKDiving</th>\n",
       "      <th>GKHandling</th>\n",
       "      <th>GKKicking</th>\n",
       "      <th>GKPositioning</th>\n",
       "      <th>GKReflexes</th>\n",
       "    </tr>\n",
       "  </thead>\n",
       "  <tbody>\n",
       "    <tr>\n",
       "      <th>0</th>\n",
       "      <td>29</td>\n",
       "      <td>Uruguay</td>\n",
       "      <td>92</td>\n",
       "      <td>92</td>\n",
       "      <td>FC Barcelona</td>\n",
       "      <td>€83M</td>\n",
       "      <td>€525K</td>\n",
       "      <td>2291</td>\n",
       "      <td>Right</td>\n",
       "      <td>5.0</td>\n",
       "      <td>...</td>\n",
       "      <td>85.0</td>\n",
       "      <td>83.0</td>\n",
       "      <td>30.0</td>\n",
       "      <td>45.0</td>\n",
       "      <td>38.0</td>\n",
       "      <td>27.0</td>\n",
       "      <td>25.0</td>\n",
       "      <td>31.0</td>\n",
       "      <td>33.0</td>\n",
       "      <td>37.0</td>\n",
       "    </tr>\n",
       "    <tr>\n",
       "      <th>1</th>\n",
       "      <td>28</td>\n",
       "      <td>Belgium</td>\n",
       "      <td>86</td>\n",
       "      <td>86</td>\n",
       "      <td>Roma</td>\n",
       "      <td>€37.5M</td>\n",
       "      <td>€130K</td>\n",
       "      <td>2290</td>\n",
       "      <td>Right</td>\n",
       "      <td>3.0</td>\n",
       "      <td>...</td>\n",
       "      <td>63.0</td>\n",
       "      <td>85.0</td>\n",
       "      <td>78.0</td>\n",
       "      <td>85.0</td>\n",
       "      <td>88.0</td>\n",
       "      <td>11.0</td>\n",
       "      <td>11.0</td>\n",
       "      <td>14.0</td>\n",
       "      <td>8.0</td>\n",
       "      <td>11.0</td>\n",
       "    </tr>\n",
       "    <tr>\n",
       "      <th>2</th>\n",
       "      <td>29</td>\n",
       "      <td>Chile</td>\n",
       "      <td>87</td>\n",
       "      <td>87</td>\n",
       "      <td>FC Bayern München</td>\n",
       "      <td>€41.5M</td>\n",
       "      <td>€180K</td>\n",
       "      <td>2285</td>\n",
       "      <td>Right</td>\n",
       "      <td>4.0</td>\n",
       "      <td>...</td>\n",
       "      <td>84.0</td>\n",
       "      <td>86.0</td>\n",
       "      <td>76.0</td>\n",
       "      <td>89.0</td>\n",
       "      <td>84.0</td>\n",
       "      <td>4.0</td>\n",
       "      <td>2.0</td>\n",
       "      <td>4.0</td>\n",
       "      <td>2.0</td>\n",
       "      <td>4.0</td>\n",
       "    </tr>\n",
       "    <tr>\n",
       "      <th>3</th>\n",
       "      <td>24</td>\n",
       "      <td>Austria</td>\n",
       "      <td>86</td>\n",
       "      <td>89</td>\n",
       "      <td>FC Bayern München</td>\n",
       "      <td>€41.5M</td>\n",
       "      <td>€140K</td>\n",
       "      <td>2279</td>\n",
       "      <td>Left</td>\n",
       "      <td>4.0</td>\n",
       "      <td>...</td>\n",
       "      <td>80.0</td>\n",
       "      <td>79.0</td>\n",
       "      <td>81.0</td>\n",
       "      <td>83.0</td>\n",
       "      <td>83.0</td>\n",
       "      <td>5.0</td>\n",
       "      <td>7.0</td>\n",
       "      <td>14.0</td>\n",
       "      <td>15.0</td>\n",
       "      <td>9.0</td>\n",
       "    </tr>\n",
       "    <tr>\n",
       "      <th>4</th>\n",
       "      <td>23</td>\n",
       "      <td>France</td>\n",
       "      <td>88</td>\n",
       "      <td>94</td>\n",
       "      <td>Manchester United</td>\n",
       "      <td>€71.5M</td>\n",
       "      <td>€225K</td>\n",
       "      <td>2271</td>\n",
       "      <td>Right</td>\n",
       "      <td>4.0</td>\n",
       "      <td>...</td>\n",
       "      <td>76.0</td>\n",
       "      <td>83.0</td>\n",
       "      <td>68.0</td>\n",
       "      <td>73.0</td>\n",
       "      <td>73.0</td>\n",
       "      <td>5.0</td>\n",
       "      <td>6.0</td>\n",
       "      <td>2.0</td>\n",
       "      <td>4.0</td>\n",
       "      <td>3.0</td>\n",
       "    </tr>\n",
       "  </tbody>\n",
       "</table>\n",
       "<p>5 rows × 51 columns</p>\n",
       "</div>"
      ],
      "text/plain": [
       "   Age Nationality  Overall  Potential               Club   Value   Wage  \\\n",
       "0   29     Uruguay       92         92       FC Barcelona    €83M  €525K   \n",
       "1   28     Belgium       86         86               Roma  €37.5M  €130K   \n",
       "2   29       Chile       87         87  FC Bayern München  €41.5M  €180K   \n",
       "3   24     Austria       86         89  FC Bayern München  €41.5M  €140K   \n",
       "4   23      France       88         94  Manchester United  €71.5M  €225K   \n",
       "\n",
       "   Special Preferred Foot  International Reputation  ...  Penalties  \\\n",
       "0     2291          Right                       5.0  ...       85.0   \n",
       "1     2290          Right                       3.0  ...       63.0   \n",
       "2     2285          Right                       4.0  ...       84.0   \n",
       "3     2279           Left                       4.0  ...       80.0   \n",
       "4     2271          Right                       4.0  ...       76.0   \n",
       "\n",
       "   Composure Marking StandingTackle SlidingTackle GKDiving GKHandling  \\\n",
       "0       83.0    30.0           45.0          38.0     27.0       25.0   \n",
       "1       85.0    78.0           85.0          88.0     11.0       11.0   \n",
       "2       86.0    76.0           89.0          84.0      4.0        2.0   \n",
       "3       79.0    81.0           83.0          83.0      5.0        7.0   \n",
       "4       83.0    68.0           73.0          73.0      5.0        6.0   \n",
       "\n",
       "   GKKicking  GKPositioning  GKReflexes  \n",
       "0       31.0           33.0        37.0  \n",
       "1       14.0            8.0        11.0  \n",
       "2        4.0            2.0         4.0  \n",
       "3       14.0           15.0         9.0  \n",
       "4        2.0            4.0         3.0  \n",
       "\n",
       "[5 rows x 51 columns]"
      ]
     },
     "execution_count": 3,
     "metadata": {},
     "output_type": "execute_result"
    }
   ],
   "source": [
    "df.head()"
   ]
  },
  {
   "cell_type": "markdown",
   "id": "fbd32281",
   "metadata": {},
   "source": [
    "#### Data Preprocessing for model training"
   ]
  },
  {
   "cell_type": "markdown",
   "id": "7092a095",
   "metadata": {},
   "source": [
    "##### 1.Handle Categorical Columns"
   ]
  },
  {
   "cell_type": "code",
   "execution_count": 4,
   "id": "06e30a61",
   "metadata": {},
   "outputs": [],
   "source": [
    "categorical_cols = df.select_dtypes(include=['object']).columns\n",
    "label_encoders = {}\n",
    "for col in categorical_cols:\n",
    "    le = LabelEncoder()\n",
    "    df[col] = le.fit_transform(df[col])\n",
    "    label_encoders[col] = le\n"
   ]
  },
  {
   "cell_type": "markdown",
   "id": "c86cacfb",
   "metadata": {},
   "source": [
    "##### 1.1 Convert Height & Weight to Numeric"
   ]
  },
  {
   "cell_type": "code",
   "execution_count": 5,
   "id": "7b3cc704",
   "metadata": {},
   "outputs": [],
   "source": [
    "# Convert Height from \"5'9\"\" to total inches\n",
    "df[\"Height\"] = df[\"Height\"].apply(lambda x: int(x.split(\"'\")[0]) * 12 + int(x.split(\"'\")[1]) if isinstance(x, str) else x)\n",
    "\n",
    "# Convert Weight from \"165lbs\" to integer\n",
    "df[\"Weight\"] = df[\"Weight\"].apply(lambda x: int(x.replace(\"lbs\", \"\")) if isinstance(x, str) else x)\n"
   ]
  },
  {
   "cell_type": "code",
   "execution_count": 6,
   "id": "3164057a",
   "metadata": {},
   "outputs": [
    {
     "name": "stdout",
     "output_type": "stream",
     "text": [
      "Categorical columns: Index([], dtype='object')\n"
     ]
    }
   ],
   "source": [
    "categorical_cols = df.select_dtypes(include=['object']).columns\n",
    "print(\"Categorical columns:\", categorical_cols)"
   ]
  },
  {
   "cell_type": "markdown",
   "id": "dd4fef96",
   "metadata": {},
   "source": [
    "##### 1.3 convert value and wage "
   ]
  },
  {
   "cell_type": "code",
   "execution_count": 7,
   "id": "792da03e",
   "metadata": {},
   "outputs": [],
   "source": [
    "def convert_currency(value):\n",
    "    if isinstance(value, str):  # Check if value is a string\n",
    "        value = value.replace(\"€\", \"\").replace(\"K\", \"000\").replace(\"M\", \"000000\")\n",
    "        return float(value)\n",
    "    return value  # Return as-is if already numeric\n",
    "\n",
    "# Apply function to Value and Wage columns\n",
    "df[\"Value\"] = df[\"Value\"].apply(convert_currency)\n",
    "df[\"Wage\"] = df[\"Wage\"].apply(convert_currency)\n"
   ]
  },
  {
   "cell_type": "markdown",
   "id": "7ccab239",
   "metadata": {},
   "source": [
    "##### 2. Feature Selection"
   ]
  },
  {
   "cell_type": "code",
   "execution_count": 8,
   "id": "38dca81b",
   "metadata": {},
   "outputs": [],
   "source": [
    "important_features = [\n",
    "    'Age', 'Overall', 'Potential','Dribbling', 'BallControl', \n",
    "    'Acceleration', 'Agility', 'Reactions','Aggression', 'Jumping', 'Stamina', 'LongShots',  'Vision', 'Penalties', \n",
    "    'Composure', 'Marking', 'StandingTackle', 'SlidingTackle',  'GKPositioning', \n",
    "]\n",
    "\n",
    "# Filter X to only keep the selected numerical features\n",
    "X_filtered = df[important_features]"
   ]
  },
  {
   "cell_type": "code",
   "execution_count": 9,
   "id": "56d72fde",
   "metadata": {},
   "outputs": [],
   "source": [
    "target = \"Value\"\n",
    "features = [col for col in df.columns if col != target]\n"
   ]
  },
  {
   "cell_type": "markdown",
   "id": "53407f3a",
   "metadata": {},
   "source": [
    "##### 3. Splitting Data into Training & Testing Sets"
   ]
  },
  {
   "cell_type": "code",
   "execution_count": 10,
   "id": "cd613177",
   "metadata": {},
   "outputs": [],
   "source": [
    "X = df[features]\n",
    "y = df[target]\n",
    "X_train, X_test, y_train, y_test = train_test_split(X, y, test_size=0.2, random_state=42)\n"
   ]
  },
  {
   "cell_type": "markdown",
   "id": "5d2597b3",
   "metadata": {},
   "source": [
    "##### 4. Standardize numerical features"
   ]
  },
  {
   "cell_type": "code",
   "execution_count": 11,
   "id": "80c3ca5e",
   "metadata": {},
   "outputs": [],
   "source": [
    "scaler = StandardScaler()\n",
    "X_train = scaler.fit_transform(X_train)\n",
    "X_test = scaler.transform(X_test)\n"
   ]
  },
  {
   "cell_type": "markdown",
   "id": "507d00f5",
   "metadata": {},
   "source": [
    "##### 4.Train the Model using Random Forest model with hyperparameter tuning"
   ]
  },
  {
   "cell_type": "code",
   "execution_count": 12,
   "id": "be581481",
   "metadata": {},
   "outputs": [
    {
     "data": {
      "text/html": [
       "<style>#sk-container-id-1 {color: black;}#sk-container-id-1 pre{padding: 0;}#sk-container-id-1 div.sk-toggleable {background-color: white;}#sk-container-id-1 label.sk-toggleable__label {cursor: pointer;display: block;width: 100%;margin-bottom: 0;padding: 0.3em;box-sizing: border-box;text-align: center;}#sk-container-id-1 label.sk-toggleable__label-arrow:before {content: \"▸\";float: left;margin-right: 0.25em;color: #696969;}#sk-container-id-1 label.sk-toggleable__label-arrow:hover:before {color: black;}#sk-container-id-1 div.sk-estimator:hover label.sk-toggleable__label-arrow:before {color: black;}#sk-container-id-1 div.sk-toggleable__content {max-height: 0;max-width: 0;overflow: hidden;text-align: left;background-color: #f0f8ff;}#sk-container-id-1 div.sk-toggleable__content pre {margin: 0.2em;color: black;border-radius: 0.25em;background-color: #f0f8ff;}#sk-container-id-1 input.sk-toggleable__control:checked~div.sk-toggleable__content {max-height: 200px;max-width: 100%;overflow: auto;}#sk-container-id-1 input.sk-toggleable__control:checked~label.sk-toggleable__label-arrow:before {content: \"▾\";}#sk-container-id-1 div.sk-estimator input.sk-toggleable__control:checked~label.sk-toggleable__label {background-color: #d4ebff;}#sk-container-id-1 div.sk-label input.sk-toggleable__control:checked~label.sk-toggleable__label {background-color: #d4ebff;}#sk-container-id-1 input.sk-hidden--visually {border: 0;clip: rect(1px 1px 1px 1px);clip: rect(1px, 1px, 1px, 1px);height: 1px;margin: -1px;overflow: hidden;padding: 0;position: absolute;width: 1px;}#sk-container-id-1 div.sk-estimator {font-family: monospace;background-color: #f0f8ff;border: 1px dotted black;border-radius: 0.25em;box-sizing: border-box;margin-bottom: 0.5em;}#sk-container-id-1 div.sk-estimator:hover {background-color: #d4ebff;}#sk-container-id-1 div.sk-parallel-item::after {content: \"\";width: 100%;border-bottom: 1px solid gray;flex-grow: 1;}#sk-container-id-1 div.sk-label:hover label.sk-toggleable__label {background-color: #d4ebff;}#sk-container-id-1 div.sk-serial::before {content: \"\";position: absolute;border-left: 1px solid gray;box-sizing: border-box;top: 0;bottom: 0;left: 50%;z-index: 0;}#sk-container-id-1 div.sk-serial {display: flex;flex-direction: column;align-items: center;background-color: white;padding-right: 0.2em;padding-left: 0.2em;position: relative;}#sk-container-id-1 div.sk-item {position: relative;z-index: 1;}#sk-container-id-1 div.sk-parallel {display: flex;align-items: stretch;justify-content: center;background-color: white;position: relative;}#sk-container-id-1 div.sk-item::before, #sk-container-id-1 div.sk-parallel-item::before {content: \"\";position: absolute;border-left: 1px solid gray;box-sizing: border-box;top: 0;bottom: 0;left: 50%;z-index: -1;}#sk-container-id-1 div.sk-parallel-item {display: flex;flex-direction: column;z-index: 1;position: relative;background-color: white;}#sk-container-id-1 div.sk-parallel-item:first-child::after {align-self: flex-end;width: 50%;}#sk-container-id-1 div.sk-parallel-item:last-child::after {align-self: flex-start;width: 50%;}#sk-container-id-1 div.sk-parallel-item:only-child::after {width: 0;}#sk-container-id-1 div.sk-dashed-wrapped {border: 1px dashed gray;margin: 0 0.4em 0.5em 0.4em;box-sizing: border-box;padding-bottom: 0.4em;background-color: white;}#sk-container-id-1 div.sk-label label {font-family: monospace;font-weight: bold;display: inline-block;line-height: 1.2em;}#sk-container-id-1 div.sk-label-container {text-align: center;}#sk-container-id-1 div.sk-container {/* jupyter's `normalize.less` sets `[hidden] { display: none; }` but bootstrap.min.css set `[hidden] { display: none !important; }` so we also need the `!important` here to be able to override the default hidden behavior on the sphinx rendered scikit-learn.org. See: https://github.com/scikit-learn/scikit-learn/issues/21755 */display: inline-block !important;position: relative;}#sk-container-id-1 div.sk-text-repr-fallback {display: none;}</style><div id=\"sk-container-id-1\" class=\"sk-top-container\"><div class=\"sk-text-repr-fallback\"><pre>RandomForestRegressor(max_depth=30, n_estimators=200, random_state=42)</pre><b>In a Jupyter environment, please rerun this cell to show the HTML representation or trust the notebook. <br />On GitHub, the HTML representation is unable to render, please try loading this page with nbviewer.org.</b></div><div class=\"sk-container\" hidden><div class=\"sk-item\"><div class=\"sk-estimator sk-toggleable\"><input class=\"sk-toggleable__control sk-hidden--visually\" id=\"sk-estimator-id-1\" type=\"checkbox\" checked><label for=\"sk-estimator-id-1\" class=\"sk-toggleable__label sk-toggleable__label-arrow\">RandomForestRegressor</label><div class=\"sk-toggleable__content\"><pre>RandomForestRegressor(max_depth=30, n_estimators=200, random_state=42)</pre></div></div></div></div></div>"
      ],
      "text/plain": [
       "RandomForestRegressor(max_depth=30, n_estimators=200, random_state=42)"
      ]
     },
     "execution_count": 12,
     "metadata": {},
     "output_type": "execute_result"
    }
   ],
   "source": [
    "rf_model = RandomForestRegressor(n_estimators=200, max_depth=30, random_state=42)\n",
    "rf_model.fit(X_train, y_train)\n"
   ]
  },
  {
   "cell_type": "markdown",
   "id": "4db84f66",
   "metadata": {},
   "source": [
    "##### 5.Make prediction"
   ]
  },
  {
   "cell_type": "code",
   "execution_count": 21,
   "id": "ebe63dd0",
   "metadata": {},
   "outputs": [],
   "source": [
    "y_pred = rf_model.predict(X_test)"
   ]
  },
  {
   "cell_type": "markdown",
   "id": "36277365",
   "metadata": {},
   "source": [
    "##### 6.evaluate model"
   ]
  },
  {
   "cell_type": "code",
   "execution_count": 22,
   "id": "7060e596",
   "metadata": {},
   "outputs": [
    {
     "data": {
      "text/plain": [
       "(0.8638257862474628, 11.410481692260676)"
      ]
     },
     "execution_count": 22,
     "metadata": {},
     "output_type": "execute_result"
    }
   ],
   "source": [
    "r2 = r2_score(y_test, y_pred)\n",
    "mae = mean_absolute_error(y_test, y_pred)\n",
    "\n",
    "r2, mae\n"
   ]
  }
 ],
 "metadata": {
  "kernelspec": {
   "display_name": "kenv",
   "language": "python",
   "name": "python3"
  },
  "language_info": {
   "codemirror_mode": {
    "name": "ipython",
    "version": 3
   },
   "file_extension": ".py",
   "mimetype": "text/x-python",
   "name": "python",
   "nbconvert_exporter": "python",
   "pygments_lexer": "ipython3",
   "version": "3.8.20"
  }
 },
 "nbformat": 4,
 "nbformat_minor": 5
}
